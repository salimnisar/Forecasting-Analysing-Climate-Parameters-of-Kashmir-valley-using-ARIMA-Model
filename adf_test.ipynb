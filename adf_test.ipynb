{
 "cells": [
  {
   "cell_type": "code",
   "execution_count": 2,
   "id": "ec991fe0",
   "metadata": {},
   "outputs": [],
   "source": [
    "import pandas as pd\n",
    "import numpy as np\n",
    "from statsmodels.tsa.stattools import adfuller"
   ]
  },
  {
   "cell_type": "code",
   "execution_count": 3,
   "id": "dbd532ef",
   "metadata": {},
   "outputs": [],
   "source": [
    "#Loading Mean temperature data and converting its values to a numpy array\n",
    "data=pd.read_csv('./datasets/ceda/tmp/tmp5.csv',parse_dates=['DATE'],index_col='DATE')\n",
    "series_tmp=data['TEMPERATURE'].values\n",
    "#Loading Mean Max temperature data and converting its values to a numpy array\n",
    "data=pd.read_csv('./datasets/ceda/tmx/tmx5.csv',parse_dates=['DATE'],index_col='DATE')\n",
    "series_tmx=data['AVG MAX TEMPERATURE'].values\n",
    "#Loading Mean Min temperature data and converting its values to a numpy array\n",
    "data=pd.read_csv('./datasets/ceda/tmn/tmn5.csv',parse_dates=['DATE'],index_col='DATE')\n",
    "series_tmn=data['AVG MIN TEMPERATURE'].values\n",
    "#Loading Cloud Cover data and converting its values to a numpy array\n",
    "data=pd.read_csv('./datasets/ceda/cld/cld5.csv',parse_dates=['DATE'],index_col='DATE')\n",
    "series_cld=data['CLOUD COVER'].values\n",
    "#Loading Precipitation data and converting its values to a numpy array\n",
    "data=pd.read_csv('./datasets/ceda/pre/pre5.csv',parse_dates=['DATE'],index_col='DATE')\n",
    "series_pre=data['TOTAL PRECIPITATION'].values"
   ]
  },
  {
   "cell_type": "code",
   "execution_count": 4,
   "id": "33b60b1b",
   "metadata": {},
   "outputs": [],
   "source": [
    "def adfuller_test(testdata, signif=0.05):\n",
    "#Perform Augmented Dickey-Fuller to test for Stationarity of the given series \n",
    "#and print report. Null Hypothesis: Data has unit root and is non-stationary.\n",
    "#series: time series in pd.Series format\n",
    "#signif: significance level for P-value to reject Null Hypothesis\n",
    "    x = adfuller(testdata, autolag='AIC')\n",
    "\n",
    "    #using dictionary saves different data types (float, int, boolean)\n",
    "    output = {'Test Statistic': x[0], \n",
    "              'P-value': x[1], \n",
    "              'Number of lags': x[2], \n",
    "              'Number of observations': x[3],\n",
    "              f'Reject (signif. level {signif})': x[1] < signif }\n",
    "\n",
    "    for key, val in x[4].items():\n",
    "         output[f'Critical value {key}'] = val\n",
    "\n",
    "    return pd.Series(output)"
   ]
  },
  {
   "cell_type": "code",
   "execution_count": 4,
   "id": "6940671b",
   "metadata": {},
   "outputs": [],
   "source": [
    "tmp=adfuller_test(series_tmp)\n",
    "tmx=adfuller_test(series_tmx)\n",
    "tmn=adfuller_test(series_tmn)\n",
    "cld=adfuller_test(series_cld)\n",
    "pre=adfuller_test(series_pre)"
   ]
  },
  {
   "cell_type": "code",
   "execution_count": 5,
   "id": "011d1e45",
   "metadata": {},
   "outputs": [
    {
     "name": "stdout",
     "output_type": "stream",
     "text": [
      "Test Statistic                -4.518603\n",
      "P-value                        0.000182\n",
      "Number of lags                       23\n",
      "Number of observations             1404\n",
      "Reject (signif. level 0.05)        True\n",
      "Critical value 1%             -3.435016\n",
      "Critical value 5%             -2.863601\n",
      "Critical value 10%            -2.567867\n",
      "dtype: object\n"
     ]
    }
   ],
   "source": [
    "#ADF Test results for Mean Temperature - Result - Stationary\n",
    "print(tmp)"
   ]
  },
  {
   "cell_type": "code",
   "execution_count": 6,
   "id": "bcc65877",
   "metadata": {
    "scrolled": true
   },
   "outputs": [
    {
     "name": "stdout",
     "output_type": "stream",
     "text": [
      "Test Statistic                -4.937792\n",
      "P-value                        0.000029\n",
      "Number of lags                       23\n",
      "Number of observations             1404\n",
      "Reject (signif. level 0.05)        True\n",
      "Critical value 1%             -3.435016\n",
      "Critical value 5%             -2.863601\n",
      "Critical value 10%            -2.567867\n",
      "dtype: object\n"
     ]
    }
   ],
   "source": [
    "#ADF Test results for Mean Maximum Temperature - Result - Stationary\n",
    "print(tmx)"
   ]
  },
  {
   "cell_type": "code",
   "execution_count": 7,
   "id": "7f406228",
   "metadata": {},
   "outputs": [
    {
     "name": "stdout",
     "output_type": "stream",
     "text": [
      "Test Statistic                -4.186384\n",
      "P-value                        0.000695\n",
      "Number of lags                       23\n",
      "Number of observations             1404\n",
      "Reject (signif. level 0.05)        True\n",
      "Critical value 1%             -3.435016\n",
      "Critical value 5%             -2.863601\n",
      "Critical value 10%            -2.567867\n",
      "dtype: object\n"
     ]
    }
   ],
   "source": [
    "#ADF Test results for Mean Minimum Temperature - Result - Stationary\n",
    "print(tmn)"
   ]
  },
  {
   "cell_type": "code",
   "execution_count": 8,
   "id": "b355fdcb",
   "metadata": {},
   "outputs": [
    {
     "name": "stdout",
     "output_type": "stream",
     "text": [
      "Test Statistic                 -0.62942\n",
      "P-value                        0.864195\n",
      "Number of lags                       23\n",
      "Number of observations             1404\n",
      "Reject (signif. level 0.05)       False\n",
      "Critical value 1%             -3.435016\n",
      "Critical value 5%             -2.863601\n",
      "Critical value 10%            -2.567867\n",
      "dtype: object\n"
     ]
    }
   ],
   "source": [
    "#ADF Test results for Cloud Cover - Result - Non-Stationary\n",
    "print(cld)"
   ]
  },
  {
   "cell_type": "code",
   "execution_count": 9,
   "id": "9598e919",
   "metadata": {},
   "outputs": [
    {
     "name": "stdout",
     "output_type": "stream",
     "text": [
      "Test Statistic                -5.494461\n",
      "P-value                        0.000002\n",
      "Number of lags                       24\n",
      "Number of observations             1403\n",
      "Reject (signif. level 0.05)        True\n",
      "Critical value 1%             -3.435019\n",
      "Critical value 5%             -2.863602\n",
      "Critical value 10%            -2.567868\n",
      "dtype: object\n"
     ]
    }
   ],
   "source": [
    "#ADF Test results for Total Precipitation - Result - Stationary\n",
    "print(pre)"
   ]
  },
  {
   "cell_type": "code",
   "execution_count": 21,
   "id": "a69ba734",
   "metadata": {},
   "outputs": [],
   "source": [
    "data=pd.read_csv('./datasets/ceda/cld/cld5.csv',parse_dates=['DATE'],index_col='DATE')\n",
    "data['CLOUD COVER']=data['CLOUD COVER'].diff()\n",
    "data=data.dropna()"
   ]
  },
  {
   "cell_type": "code",
   "execution_count": 27,
   "id": "828d9b5c",
   "metadata": {},
   "outputs": [
    {
     "name": "stdout",
     "output_type": "stream",
     "text": [
      "Test Statistic                -8.126691\n",
      "P-value                             0.0\n",
      "Number of lags                        6\n",
      "Number of observations              653\n",
      "Reject (signif. level 0.05)        True\n",
      "Critical value 1%             -3.440404\n",
      "Critical value 5%             -2.865976\n",
      "Critical value 10%            -2.569132\n",
      "dtype: object\n"
     ]
    }
   ],
   "source": [
    "series=np.log(data['CLOUD COVER']).dropna()\n",
    "print(adfuller_test(series))"
   ]
  },
  {
   "cell_type": "code",
   "execution_count": null,
   "id": "9c763794",
   "metadata": {},
   "outputs": [],
   "source": []
  }
 ],
 "metadata": {
  "kernelspec": {
   "display_name": "Python 3 (ipykernel)",
   "language": "python",
   "name": "python3"
  },
  "language_info": {
   "codemirror_mode": {
    "name": "ipython",
    "version": 3
   },
   "file_extension": ".py",
   "mimetype": "text/x-python",
   "name": "python",
   "nbconvert_exporter": "python",
   "pygments_lexer": "ipython3",
   "version": "3.8.5"
  }
 },
 "nbformat": 4,
 "nbformat_minor": 5
}
